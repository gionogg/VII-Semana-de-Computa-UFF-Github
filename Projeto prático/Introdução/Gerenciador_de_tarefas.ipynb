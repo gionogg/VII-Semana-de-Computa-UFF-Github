{
 "cells": [
  {
   "cell_type": "markdown",
   "metadata": {},
   "source": [
    "Implemente um gerenciador de tarefas em Python que pode ser feito em grupo de 2 a 5 pessoas para praticar o versionamento de código em equipe.\n",
    "\n",
    "Crie um repositório Git para o projeto e divida as tarefas entre os membros da equipe. Teste prático de como clonar o repositório, criar ramificações, realizar commits e mesclar as alterações. Também é importante definir um fluxo de trabalho claro, como quem será responsável por quais partes do código.\n",
    "\n",
    "Implementem uma agenda básica com as funcionalidade:\n",
    "\n",
    "- Adicionar tarefa.\n",
    "- Listar tarefas.\n",
    "- Atualizar status da tarefa.\n",
    "- Deletar tarega.\n",
    "- Menu iterativo das opções anteriores."
   ]
  },
  {
   "cell_type": "code",
   "execution_count": null,
   "metadata": {},
   "outputs": [],
   "source": [
    "lista = []\n",
    "def menu:\n",
    "    print(\"1 - Adicionar tarefa\\n2 - Listar tarefa\\n3 - Atualizar status\\n4 - Delegar tarefa\")\n",
    "    resposta = int(input(\"O que voce gostaria de fazer?\"))\n",
    "return resposta\n",
    "\n",
    "a = 1\n",
    "while(a=1):\n",
    "    resp = menu\n",
    "    if resp == 1:\n",
    "        adicionarTarefa\n",
    "    elif resp == 2:\n",
    "        listarTarefa\n",
    "    elif resp == 3:\n",
    "        atualizarStatus\n",
    "    elif resp == 4:\n",
    "        delegarTarefa"
   ]
  }
 ],
 "metadata": {
  "language_info": {
   "name": "python"
  }
 },
 "nbformat": 4,
 "nbformat_minor": 2
}
